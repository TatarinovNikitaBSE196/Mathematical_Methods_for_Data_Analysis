{
 "cells": [
  {
   "cell_type": "markdown",
   "metadata": {},
   "source": [
    "# HSE 2021: Mathematical Methods for Data Analysis\n",
    "\n",
    "## Homework 3\n",
    "\n",
    "**Warning 1**: some problems require (especially the lemmatization part) significant amount of time, so **it is better to start early (!)**\n",
    "\n",
    "**Warning 2**: it is critical to describe and explain what you are doing and why, use markdown cells\n",
    "\n",
    "### Attention!\n",
    "* For tasks where <ins>text answer</ins> is required **Russian language** is **allowed**.\n",
    "* If a task asks you to describe something (make conclusions) then **text answer** is **mandatory** and **is** part of the task\n",
    "* We **only** accept **ipynb** notebooks. If you use Google Colab then you'll have to download the notebook before passing the homework\n",
    "* **Do not** use python loops instead of NumPy vector operations over NumPy vectors - it significantly decreases performance (see why https://blog.paperspace.com/numpy-optimization-vectorization-and-broadcasting/), will be punished with -0.25 for **every** task. "
   ]
  },
  {
   "cell_type": "code",
   "execution_count": 1,
   "metadata": {},
   "outputs": [],
   "source": [
    "from typing import Tuple, List\n",
    "\n",
    "import matplotlib.pyplot as plt\n",
    "import numpy as np\n",
    "import pandas as pd\n",
    "import seaborn as sns\n",
    "%matplotlib inline\n",
    "\n",
    "sns.set(style=\"darkgrid\")"
   ]
  },
  {
   "cell_type": "markdown",
   "metadata": {},
   "source": [
    "## PART 1: Logit model"
   ]
  },
  {
   "cell_type": "markdown",
   "metadata": {},
   "source": [
    "We consider a binary classification problem. For prediction, we would like to use a logistic regression model. For regularization we add a combination of the $l_2$ and $l_1$ penalties (Elastic Net). \n",
    "\n",
    "Each object in the training dataset is indexed with $i$ and described by pair: features $x_i\\in\\mathbb{R}^{K}$ and binary labels $y_i$. The model is parametrized with bias $w_0\\in\\mathbb{R}$ and weights $w\\in\\mathbb{R}^K$.\n",
    "\n",
    "The optimization problem with respect to the $w_0, w$ is the following (Elastic Net Loss):\n",
    "\n",
    "$$L(w, w_0) = \\frac{1}{N} \\sum_{i=1}^N \\ln(1+\\exp(-y_i(w^\\top x_i+w_0))) + \\gamma \\|w\\|_1 + \\beta \\|w\\|_2^2$$."
   ]
  },
  {
   "cell_type": "markdown",
   "metadata": {},
   "source": [
    "#### 1. [0.5 points]  Find the gradient of the Elastic Net loss and write its formulas (better in latex format) "
   ]
  },
  {
   "cell_type": "markdown",
   "metadata": {},
   "source": [
    "##### Put your markdown formulas here below:\n",
    "\n",
    "$$ L(w, w_0) = \\dfrac{1}{N} \\sum_{i=1}^N \\ln(1+e^{-y_i \\sum\\limits_{j=1}^k \\big( w_j x_i^j \\big) - y_i w_0}) + \\gamma \\cdot \\sum_{i=1}^k | w_i | + \\beta \\cdot \\sum_{i=1}^k {w_i}^2 $$\n",
    "$$ \\dfrac{\\partial L}{\\partial w_i} \\, = \\, \\dfrac{1}{N} \\sum_{i=1}^N \\bigg( \\dfrac{1}{1 + e^{-y_i(w^T x_i + w_0)}} \\cdot e^{-y_i(w^T x_i + w_0)} \\cdot \\big( - y_i x_i^i \\big) \\bigg) + \\gamma \\cdot \\dfrac{w_i}{| w_i |} + 2 \\cdot \\beta \\cdot w_i $$\n",
    "$$ \\nabla_w L(w, w_0) \\, = \\, \\Big( \\dfrac{\\partial L}{\\partial w_1}, \\dots , \\dfrac{\\partial L}{\\partial w_k} \\Big) \\, = \\, \\dfrac{1}{N} \\sum_{i=1}^N \\dfrac{-y_i \\cdot e^{-y_i(w^T x_i + w_0)}}{1 + e^{-y_i(w^T x_i + w_0)}} \\cdot x_i + \\gamma \\cdot { \\Big( \\dfrac{w_1}{| w_1 |}, \\dots , \\dfrac{w_k}{| w_k |} \\Big) }^T + 2 \\cdot \\beta \\cdot w $$\n",
    "$$ \\nabla_{w_0} L(w, w_0) \\, = \\, \\Big( \\dfrac{\\partial L}{\\partial w_0} \\Big) \\, = \\, \\left( \\dfrac{1}{N} \\sum_{i=1}^N \\dfrac{-y_i \\cdot e^{-y_i(w^T x_i + w_0)}}{1 + e^{-y_i(w^T x_i + w_0)}} \\right) $$"
   ]
  },
  {
   "cell_type": "markdown",
   "metadata": {},
   "source": [
    "**Reminder!**\n",
    "Do not use loops in task 2 and task 3. Loss and grad functions should be implemented in matrix form, without loops."
   ]
  },
  {
   "cell_type": "markdown",
   "metadata": {},
   "source": [
    "#### 2. [0.5 points] Implement the Elastic Net loss (as a function)"
   ]
  },
  {
   "cell_type": "code",
   "execution_count": 2,
   "metadata": {},
   "outputs": [],
   "source": [
    "def loss(X, y, w: List[float], w0: float, gamma=1., beta=1.) -> float:\n",
    "    \n",
    "    \"\"\"\n",
    "    :param w: np.ndarray of shape (n_feratures,) -- the weights\n",
    "    :param w0: intercept\n",
    "    :param X: np.ndarray of shape (n_objects, n_features) -- matrix objects-features\n",
    "    :param y: np.ndarray of shape (n_objects,) -- vector of the correct answers\n",
    "    :param gamma: penalty hyperparameter of L1-regularization\n",
    "    :param beta: penalty hyperparameter of L2-regularization\n",
    "    \n",
    "    \"\"\"\n",
    "    return 1 / y.shape[0] * np.sum(np.log(1 + np.exp(-y * (np.dot(X, w) + w0)))) + \\\n",
    "        gamma * np.sum(np.abs(w)) + beta * np.sum(w ** 2)"
   ]
  },
  {
   "cell_type": "markdown",
   "metadata": {},
   "source": [
    "#### 3. [0.5 points] Implement the gradient (as a function)"
   ]
  },
  {
   "cell_type": "code",
   "execution_count": 3,
   "metadata": {},
   "outputs": [],
   "source": [
    "def get_grad(X, y, w: List[float], w0: float, gamma=1., beta=1.) -> Tuple[List[float], float]:\n",
    "    \n",
    "    '''\n",
    "    :param X: np.ndarray of shape (n_objects, n_features) -- matrix objects-features\n",
    "    :param y: np.ndarray of shape (n_objects,) -- vector of the correct answers\n",
    "    :param w: np.ndarray of shape (n_feratures,) -- the weights\n",
    "    :param w0: intercept\n",
    "    :param gamma: penalty hyperparameter of L1-regularization\n",
    "    :param beta: penalty hyperparameter of L2-regularization\n",
    "    \n",
    "    '''\n",
    "    return 1 / y.shape[0] * np.dot((1 / (1 + np.exp(-y * (np.dot(X, w) + w0))) - 1) * y, X) \\\n",
    "        + gamma * np.sign(w) + 2 * beta * w, \\\n",
    "        1 / y.shape[0] * np.sum((1 / (1 + np.exp(-y * (np.dot(X, w) + w0))) - 1) * y)"
   ]
  },
  {
   "cell_type": "markdown",
   "metadata": {},
   "source": [
    "#### Check yourself"
   ]
  },
  {
   "cell_type": "code",
   "execution_count": 4,
   "metadata": {},
   "outputs": [],
   "source": [
    "np.random.seed(42)\n",
    "X = np.random.multivariate_normal(np.arange(5), np.eye(5), size=10)\n",
    "y = np.random.binomial(1, 0.42, size=10)\n",
    "w, w0 = np.random.normal(size=5), np.random.normal()\n",
    "\n",
    "grad_w, grad_w0 = get_grad(X, y, w, w0)\n",
    "assert(np.allclose(grad_w,\n",
    "                   [-2.73262076, -1.87176281, 1.30051144, 2.53598941, -2.71198109],\n",
    "                   rtol=1e-2) & \\\n",
    "       np.allclose(grad_w0,\n",
    "                   -0.2078231418067844, \n",
    "                   rtol=1e-2)\n",
    ")"
   ]
  },
  {
   "cell_type": "markdown",
   "metadata": {},
   "source": [
    "####  4. [1 point]  Implement gradient descent and plot the decision boundary of the result"
   ]
  },
  {
   "cell_type": "markdown",
   "metadata": {},
   "source": [
    "The template provides basic sklearn API class. You are free to modify it in any convenient way."
   ]
  },
  {
   "cell_type": "code",
   "execution_count": 5,
   "metadata": {},
   "outputs": [],
   "source": [
    "from sklearn.base import BaseEstimator, ClassifierMixin\n",
    "from sklearn.metrics import roc_curve"
   ]
  },
  {
   "cell_type": "code",
   "execution_count": 71,
   "metadata": {},
   "outputs": [],
   "source": [
    "class Logit(BaseEstimator, ClassifierMixin):\n",
    "    def __init__(self, beta=1.0, gamma=1.0, lr=1e-2, tolerance=1e-8, max_iter=1000, random_state=42, threshold=0.5):  \n",
    "        '''\n",
    "        betta: penalty hyperparameter of L2-regularization\n",
    "        gamma: penalty hyperparameter of L1-regularization\n",
    "        tolerance: minimal allowed movement in each iteration\n",
    "        lr: determines the step size at each iteration\n",
    "        max_iter: maximum number of iterations taken for the solvers to converge\n",
    "        \n",
    "        '''\n",
    "        self.beta = beta        \n",
    "        self.gamma = gamma\n",
    "        self.lr = lr\n",
    "        self.tolerance= tolerance\n",
    "        self.max_iter= max_iter\n",
    "        self.random_state = random_state\n",
    "        self.threshold = threshold\n",
    "        np.random.seed(random_state)\n",
    "        self.classes_ = [-1, 1]\n",
    "        # you may additional properties if you wish\n",
    "        \n",
    "\n",
    "    def fit(self, X, y):\n",
    "        \n",
    "        # add weights and bias and optimize Elastic Net loss over (X,y) dataset\n",
    "        # save history of optimization steps\n",
    "        self.loss_history = []\n",
    "        self.w, self.w0 = np.random.normal(size=X.shape[1]), np.random.normal()\n",
    "        for i in range(0, self.max_iter):\n",
    "            grad_w, grad_w0 = get_grad(X, y, self.w, self.w0, self.gamma, self.beta)\n",
    "            self.w -= self.lr * grad_w\n",
    "            self.w0 -= self.lr * grad_w0\n",
    "            self.loss_history.append(loss(X, y, self.w, self.w0, self.gamma, self.beta))\n",
    "            if np.linalg.norm(-self.lr * grad_w) < self.tolerance:\n",
    "                break\n",
    "        return self\n",
    "\n",
    "    def predict(self, X):\n",
    "        '''\n",
    "        Function that returns the vector of predicted labels for each object from X\n",
    "        \n",
    "        '''\n",
    "        return np.where(self.predict_proba(X) <= self.threshold, self.classes_[0], self.classes_[1])\n",
    "\n",
    "    def predict_proba(self, X):\n",
    "        '''\n",
    "        Function that estimates probabilities \n",
    "\n",
    "        '''\n",
    "        return np.array(1 / (1 + np.exp(-np.dot(X, self.w) - self.w0)))\n",
    "\n",
    "    def decision_function(self, X):\n",
    "        return self.predict_proba(X)"
   ]
  },
  {
   "cell_type": "code",
   "execution_count": 7,
   "metadata": {},
   "outputs": [],
   "source": [
    "# sample data to test your model\n",
    "from sklearn.datasets import make_classification\n",
    "X, y = make_classification(n_samples=180, n_features=2, n_redundant=0, n_informative=2,\n",
    "                               random_state=42, n_clusters_per_class=1)"
   ]
  },
  {
   "cell_type": "code",
   "execution_count": 8,
   "metadata": {},
   "outputs": [],
   "source": [
    "# a function to plot the decision boundary\n",
    "def plot_decision_boundary(model, X, y):\n",
    "    fig = plt.figure()\n",
    "    X1min, X2min = X.min(axis=0)\n",
    "    X1max, X2max = X.max(axis=0)\n",
    "    x1, x2 = np.meshgrid(np.linspace(X1min, X1max, 200),\n",
    "                         np.linspace(X2min, X2max, 200))\n",
    "    ypred = model.predict(np.c_[x1.ravel(), x2.ravel()])\n",
    "    ypred = ypred.reshape(x1.shape)\n",
    "    \n",
    "    plt.contourf(x1, x2, ypred, alpha=.4)\n",
    "    plt.scatter(X[:,0], X[:,1], c=y)"
   ]
  },
  {
   "cell_type": "code",
   "execution_count": 9,
   "metadata": {},
   "outputs": [
    {
     "data": {
      "image/png": "[encoded data removed]",
      "text/plain": [
       "<Figure size 432x288 with 1 Axes>"
      ]
     },
     "metadata": {},
     "output_type": "display_data"
    }
   ],
   "source": [
    "model = Logit(0,0)\n",
    "y[y == 0] = -1\n",
    "model.fit(X, y)\n",
    "plot_decision_boundary(model, X, y)"
   ]
  },
  {
   "cell_type": "markdown",
   "metadata": {},
   "source": [
    "#### 5. [0.5 points] Plot loss diagram for the model, i.e. show the dependence of the loss function from the gradient descent steps"
   ]
  },
  {
   "cell_type": "code",
   "execution_count": 10,
   "metadata": {},
   "outputs": [
    {
     "data": {
      "text/plain": [
       "[<matplotlib.lines.Line2D at 0x7f71dc5b7c10>]"
      ]
     },
     "execution_count": 10,
     "metadata": {},
     "output_type": "execute_result"
    },
    {
     "data": {
      "image/png": "[encoded data removed]",
      "text/plain": [
       "<Figure size 432x288 with 1 Axes>"
      ]
     },
     "metadata": {},
     "output_type": "display_data"
    }
   ],
   "source": [
    "plt.plot(model.loss_history)"
   ]
  },
  {
   "cell_type": "markdown",
   "metadata": {},
   "source": [
    "## PART 2: Support Vector Machines"
   ]
  },
  {
   "cell_type": "markdown",
   "metadata": {},
   "source": [
    "#### 6. [1 point] Using the same dataset, train SVM Classifier from Sklearn.\n",
    "Investigate how different parameters influence the quality of the solution:\n",
    "+ Try several kernels: Linear, Polynomial, RBF (and others if you wish). Some Kernels have hypermeters: don't forget to try different.\n",
    "+ Regularization coefficient \n",
    "\n",
    "Show how these parameters affect accuracy, roc_auc and f1 score. \n",
    "Make plots for the dependencies between metrics and parameters. \n",
    "Try to formulate conclusions from the observations. How sensitive are kernels to hyperparameters? How sensitive is a solution to the regularization? Which kernel is prone to overfitting?"
   ]
  },
  {
   "cell_type": "code",
   "execution_count": null,
   "metadata": {},
   "outputs": [],
   "source": []
  },
  {
   "cell_type": "markdown",
   "metadata": {},
   "source": [
    "## PART 3: Natural Language Processing"
   ]
  },
  {
   "cell_type": "markdown",
   "metadata": {},
   "source": [
    "#### 7. [2 point] Form the dataset\n",
    "\n",
    "We are going to form a dataset that we will use in the following tasks for binary and multiclass classification\n",
    "\n",
    "0. Choose **six** authors that you like (specify who you've chosen) and download the <a href=\"https://www.kaggle.com/d0rj3228/russian-literature?select=prose\">relevant data</a> from **prose** section\n",
    "1. Build your own dataset for these authors: [0.5 point]\n",
    "    * divide each text into sentences such that we will have two columns: *sentence* and *target author*, each row will contain one sentence and one target\n",
    "    * drop sentences where N symbols in a sentence < 15\n",
    "    * fix random state and randomly choose sentences in the folowing proportion \"30k : 15k : 7k : 20k: 40k : 3k\" for the authors respectively\n",
    "    \n",
    "    sample data may look like:\n",
    "    \n",
    "    <center> \n",
    "    <table>\n",
    "        <tr>\n",
    "            <th> sentence </th>\n",
    "            <th> author </th>\n",
    "        </tr> \n",
    "        <tr><td> Несколько лет тому назад в одном из своих поместий жил старинный русской барин, Кирила Петрович Троекуров. </td><td> Пушкин </td><td> \n",
    "        <tr><td> Уже более недели приезжий господин жил в городе, разъезжая по вечеринкам и обедам и таким образом проводя, как говорится, очень приятно время. </td><td> Гоголь </td><td> \n",
    "        <tr><td> ... </td><td> ... </td><td> \n",
    "        <tr><td> Я жил недорослем, гоняя голубей и играя в чехарду с дворовыми мальчишками. </td><td> Пушкин </td><td>         \n",
    "    </table>\n",
    "</center>\n",
    "     \n",
    "2. Preprocess (tokenize and clean) the dataset  [1.5 point]\n",
    "    * tokenize, remove all stop words (nltk.corpus.stopwords), punctuation (string.punctuation) and numbers\n",
    "    * convert to lower case and lemmatize the words\n",
    "    * vectorize words using both **bag of words** and **tf-idf** (use sklearn)\n",
    "    * observe and describe the difference between vectorized output (what do numbers look like after transformations and what do they represent?)"
   ]
  },
  {
   "cell_type": "code",
   "execution_count": 11,
   "metadata": {},
   "outputs": [
    {
     "name": "stdout",
     "output_type": "stream",
     "text": [
      "Defaulting to user installation because normal site-packages is not writeable\n",
      "Requirement already satisfied: kaggle in /home/nickyoleary/.local/lib/python3.9/site-packages (1.5.12)\n",
      "Requirement already satisfied: six>=1.10 in /usr/lib/python3.9/site-packages (from kaggle) (1.16.0)\n",
      "Requirement already satisfied: certifi in /usr/lib/python3.9/site-packages (from kaggle) (2021.10.8)\n",
      "Requirement already satisfied: python-dateutil in /home/nickyoleary/.local/lib/python3.9/site-packages (from kaggle) (2.8.2)\n",
      "Requirement already satisfied: requests in /usr/lib/python3.9/site-packages (from kaggle) (2.26.0)\n",
      "Requirement already satisfied: tqdm in /home/nickyoleary/.local/lib/python3.9/site-packages (from kaggle) (4.62.3)\n",
      "Requirement already satisfied: python-slugify in /home/nickyoleary/.local/lib/python3.9/site-packages (from kaggle) (5.0.2)\n",
      "Requirement already satisfied: urllib3 in /usr/lib/python3.9/site-packages (from kaggle) (1.26.6)\n",
      "Requirement already satisfied: text-unidecode>=1.3 in /home/nickyoleary/.local/lib/python3.9/site-packages (from python-slugify->kaggle) (1.3)\n",
      "Requirement already satisfied: chardet>=3.0.2 in /usr/lib/python3.9/site-packages (from requests->kaggle) (4.0.0)\n",
      "Requirement already satisfied: idna>=2.5 in /usr/lib/python3.9/site-packages (from requests->kaggle) (3.2)\n"
     ]
    }
   ],
   "source": [
    "!pip install kaggle"
   ]
  },
  {
   "cell_type": "code",
   "execution_count": 12,
   "metadata": {},
   "outputs": [
    {
     "name": "stdout",
     "output_type": "stream",
     "text": [
      "Warning: Your Kaggle API key is readable by other users on this system! To fix this, you can run 'chmod 600 /home/nickyoleary/.kaggle/kaggle.json'\n",
      "Warning: Your Kaggle API key is readable by other users on this system! To fix this, you can run 'chmod 600 /home/nickyoleary/.kaggle/kaggle.json'\n"
     ]
    }
   ],
   "source": [
    "import kaggle\n",
    "kaggle.api.authenticate()"
   ]
  },
  {
   "cell_type": "markdown",
   "metadata": {},
   "source": [
    "### For authentication an account at https://www.kaggle.com/ is required."
   ]
  },
  {
   "cell_type": "code",
   "execution_count": 13,
   "metadata": {},
   "outputs": [
    {
     "name": "stdout",
     "output_type": "stream",
     "text": [
      "Warning: Your Kaggle API key is readable by other users on this system! To fix this, you can run 'chmod 600 /home/nickyoleary/.kaggle/kaggle.json'\n",
      "ref                                                               title                                                size  lastUpdated          downloadCount  voteCount  usabilityRating  \n",
      "----------------------------------------------------------------  --------------------------------------------------  -----  -------------------  -------------  ---------  ---------------  \n",
      "d0rj3228/russian-literature                                       Russian literature                                   21MB  2021-11-05 14:17:08            688         26  0.9375           \n",
      "zusmani/the-holy-quran                                            The Holy Quran                                       10MB  2017-11-20 09:46:11           3704        303  0.7647059        \n",
      "oldaandozerskaya/fiction-corpus-for-agebased-text-classification  RusAge: Corpus for Age-Based Text Classification    509MB  2020-09-28 09:30:12            280         25  0.9411765        \n",
      "jonnyjackk/college-entrance-exam-scores-in-vietnam-2019           College Entrance Exam Scores in Vietnam 2019         19MB  2021-06-10 09:14:14            652         27  0.9411765        \n",
      "vitaliymalcev/russian-passenger-air-service-20072020              Russian passenger air service 2007-2020             239KB  2020-04-02 22:27:03           2033         72  1.0              \n",
      "mehmetlaudatekman/war-and-peace-project-gutenberg                 War and Peace - Project Gutenberg                     1MB  2020-10-31 12:19:21             37          3  0.875            \n",
      "paultimothymooney/mueller-report                                  The Mueller Report                                  124MB  2019-04-20 20:21:27           1430        134  1.0              \n",
      "tdbui1209/vietnam-national-hs-graduation-examination-2021         Vietnam National HS Graduation Examination - 2021     9MB  2021-09-05 10:20:28             69          3  0.85294116       \n",
      "yutkin/corpus-of-russian-news-articles-from-lenta                 News dataset from Lenta.Ru                          584MB  2019-12-14 14:34:44           1804         62  0.7058824        \n",
      "blackmoon/russian-language-toxic-comments                         Russian Language Toxic Comments                       1MB  2019-05-12 10:19:56           1516         48  0.47058824       \n",
      "christofhenkel/fasttest-common-crawl-russian                      Fasttext Common Crawl (Russian)                       1GB  2018-05-08 09:03:10            493         15  0.375            \n",
      "vikasg/russian-troll-tweets                                       Russian Troll Tweets                                 21MB  2018-02-15 00:49:04           3597        136  0.7352941        \n",
      "dwdkills/russian-demography                                       Russian Demography Data (1990-2017)                  31KB  2020-01-30 14:54:31           1317         52  1.0              \n",
      "vfomenko/russian-news-2020                                        Russian News 2020                                    20MB  2020-09-03 10:22:55            291         10  0.8235294        \n",
      "lisovskey/moviescripts                                            Movie Scripts                                         1MB  2019-01-06 01:36:06            216         18  1.0              \n",
      "vitaliymalcev/russian-touris-attractions                          Russian tourist attractions                         130KB  2020-03-28 21:11:06            320         14  1.0              \n",
      "thedownhill/art-images-drawings-painting-sculpture-engraving      Art Images: Drawing/Painting/Sculptures/Engravings  583MB  2018-05-25 18:00:50           5591        241  0.75             \n",
      "paultimothymooney/russian-political-influence-campaigns           Internet Research Agency (IRA) Social Media Data       0B  2018-08-03 21:35:48            959         38  0.75             \n",
      "trolukovich/russian-schools-geodata                               Russian schools geodata                               1MB  2019-06-03 20:49:31            294         10  0.9411765        \n",
      "fivethirtyeight/russian-troll-tweets                              Russian Troll Tweets                                175MB  2018-08-01 09:04:25           1996         89  0.7058824        \n"
     ]
    }
   ],
   "source": [
    "!kaggle datasets list -s 'russian-literature'"
   ]
  },
  {
   "cell_type": "code",
   "execution_count": 14,
   "metadata": {},
   "outputs": [
    {
     "name": "stdout",
     "output_type": "stream",
     "text": [
      "Warning: Your Kaggle API key is readable by other users on this system! To fix this, you can run 'chmod 600 /home/nickyoleary/.kaggle/kaggle.json'\n",
      "russian-literature.zip: Skipping, found more recently modified local copy (use --force to force download)\n"
     ]
    }
   ],
   "source": [
    "!kaggle datasets download -d 'd0rj3228/russian-literature'"
   ]
  },
  {
   "cell_type": "markdown",
   "metadata": {},
   "source": [
    "### There are problems unzipping via \"!unzip russian-literature\", so I had to unzip with computer manager."
   ]
  },
  {
   "cell_type": "code",
   "execution_count": 15,
   "metadata": {},
   "outputs": [],
   "source": [
    "main_folder = 'russian-literature/prose/'\n",
    "authors = ['Blok', 'Chekhov', 'Gorky', 'Lermontov', 'Pushkin', 'Turgenev']"
   ]
  },
  {
   "cell_type": "code",
   "execution_count": 16,
   "metadata": {},
   "outputs": [],
   "source": [
    "def split_into_sentences(path):\n",
    "    split_text = []\n",
    "    with open(path, encoding=\"utf-8\") as file:\n",
    "        split_text = file.read()\n",
    "    split_text = split_text.replace('!', '.').replace('?', '.').replace('…', '.').replace('\\n', ' ')\\\n",
    "    .replace('--', '').replace('–', '').replace('«', '').replace('»', '').replace('—', '')\\\n",
    "    .split('.')\n",
    "    split_text = [split_text[i] for i in range(0, len(split_text)) if len(split_text[i]) >= 15]\n",
    "    return split_text"
   ]
  },
  {
   "cell_type": "code",
   "execution_count": 17,
   "metadata": {},
   "outputs": [
    {
     "name": "stdout",
     "output_type": "stream",
     "text": [
      "Blok 433\n",
      "Chekhov 25994\n",
      "Gorky 53882\n",
      "Lermontov 3588\n",
      "Pushkin 10762\n",
      "Turgenev 28764\n"
     ]
    }
   ],
   "source": [
    "import glob\n",
    "\n",
    "sentences_lst = []\n",
    "for author in authors:\n",
    "    author_sentences = []\n",
    "    for path in glob.glob(main_folder + author + '/*.txt'):\n",
    "        author_sentences += split_into_sentences(path)\n",
    "    sentences_lst.append(author_sentences)\n",
    "for i in range(0, 6):\n",
    "    print(authors[i], len(sentences_lst[i]))"
   ]
  },
  {
   "cell_type": "code",
   "execution_count": 18,
   "metadata": {},
   "outputs": [],
   "source": [
    "import random\n",
    "random.seed(42)\n",
    "\n",
    "#Blok is 3k\n",
    "sentences_lst[3] = random.sample(sentences_lst[3], int(7 * len(sentences_lst[0]) / 3)) #7k\n",
    "sentences_lst[4] = random.sample(sentences_lst[4], int(15 * len(sentences_lst[0]) / 3)) #15k\n",
    "sentences_lst[1] = random.sample(sentences_lst[1], int(20 * len(sentences_lst[0]) / 3)) #20k\n",
    "sentences_lst[5] = random.sample(sentences_lst[5], int(30 * len(sentences_lst[0]) / 3)) #30k\n",
    "sentences_lst[2] = random.sample(sentences_lst[2], int(40 * len(sentences_lst[0]) / 3)) #40k"
   ]
  },
  {
   "cell_type": "code",
   "execution_count": 19,
   "metadata": {},
   "outputs": [
    {
     "name": "stdout",
     "output_type": "stream",
     "text": [
      "<class 'pandas.core.frame.DataFrame'>\n",
      "RangeIndex: 16597 entries, 0 to 16596\n",
      "Data columns (total 2 columns):\n",
      " #   Column    Non-Null Count  Dtype \n",
      "---  ------    --------------  ----- \n",
      " 0   sentence  16597 non-null  object\n",
      " 1   author    16597 non-null  object\n",
      "dtypes: object(2)\n",
      "memory usage: 259.5+ KB\n"
     ]
    },
    {
     "data": {
      "text/html": [
       "<div>\n",
       "<style scoped>\n",
       "    .dataframe tbody tr th:only-of-type {\n",
       "        vertical-align: middle;\n",
       "    }\n",
       "\n",
       "    .dataframe tbody tr th {\n",
       "        vertical-align: top;\n",
       "    }\n",
       "\n",
       "    .dataframe thead th {\n",
       "        text-align: right;\n",
       "    }\n",
       "</style>\n",
       "<table border=\"1\" class=\"dataframe\">\n",
       "  <thead>\n",
       "    <tr style=\"text-align: right;\">\n",
       "      <th></th>\n",
       "      <th>sentence</th>\n",
       "      <th>author</th>\n",
       "    </tr>\n",
       "  </thead>\n",
       "  <tbody>\n",
       "    <tr>\n",
       "      <th>0</th>\n",
       "      <td>Любовь на секунду остановилась в дверях, кра...</td>\n",
       "      <td>Gorky</td>\n",
       "    </tr>\n",
       "    <tr>\n",
       "      <th>1</th>\n",
       "      <td>Оно по-прежнему не колебалось и стояло твердо...</td>\n",
       "      <td>Turgenev</td>\n",
       "    </tr>\n",
       "    <tr>\n",
       "      <th>2</th>\n",
       "      <td>Старый башкирец молчал и глядел на коменданта...</td>\n",
       "      <td>Pushkin</td>\n",
       "    </tr>\n",
       "    <tr>\n",
       "      <th>3</th>\n",
       "      <td>Миленькие вдовушки в девках не сидят; то есть...</td>\n",
       "      <td>Pushkin</td>\n",
       "    </tr>\n",
       "    <tr>\n",
       "      <th>4</th>\n",
       "      <td>Это совсем таки интересно  любопытно было бы...</td>\n",
       "      <td>Chekhov</td>\n",
       "    </tr>\n",
       "  </tbody>\n",
       "</table>\n",
       "</div>"
      ],
      "text/plain": [
       "                                            sentence    author\n",
       "0    Любовь на секунду остановилась в дверях, кра...     Gorky\n",
       "1   Оно по-прежнему не колебалось и стояло твердо...  Turgenev\n",
       "2   Старый башкирец молчал и глядел на коменданта...   Pushkin\n",
       "3   Миленькие вдовушки в девках не сидят; то есть...   Pushkin\n",
       "4    Это совсем таки интересно  любопытно было бы...   Chekhov"
      ]
     },
     "execution_count": 19,
     "metadata": {},
     "output_type": "execute_result"
    }
   ],
   "source": [
    "random.seed(42)\n",
    "\n",
    "authors_lst = []\n",
    "for i in range(0, 6):\n",
    "    authors_lst += [authors[i]] * len(sentences_lst[i])\n",
    "sentences_lst = [item for sublist in sentences_lst for item in sublist]\n",
    "\n",
    "zipped = list(zip(authors_lst, sentences_lst))\n",
    "random.shuffle(zipped)\n",
    "authors_lst, sentences_lst = zip(*zipped)\n",
    "\n",
    "sentences_df = pd.DataFrame()\n",
    "sentences_df['sentence'] = sentences_lst\n",
    "sentences_df['author'] = authors_lst\n",
    "sentences_df.info()\n",
    "sentences_df.head()"
   ]
  },
  {
   "cell_type": "code",
   "execution_count": 20,
   "metadata": {},
   "outputs": [
    {
     "name": "stderr",
     "output_type": "stream",
     "text": [
      "[nltk_data] Downloading package stopwords to\n",
      "[nltk_data]     /home/nickyoleary/nltk_data...\n",
      "[nltk_data]   Package stopwords is already up-to-date!\n"
     ]
    }
   ],
   "source": [
    "import string # for work with strings\n",
    "import nltk   # Natural Language Toolkit\n",
    "\n",
    "# get russian stop words\n",
    "nltk.download('stopwords')\n",
    "stop_words = nltk.corpus.stopwords.words('russian')\n",
    "\n",
    "# define word tokenizer\n",
    "word_tokenizer = nltk.WordPunctTokenizer()"
   ]
  },
  {
   "cell_type": "code",
   "execution_count": 21,
   "metadata": {},
   "outputs": [],
   "source": [
    "dates = [str(x) for x in np.arange(0, 5000)]\n",
    "def process_data(data):\n",
    "    words = []\n",
    "    for sentence in data['sentence']:\n",
    "        # collect nlabels of news\n",
    "        sentence_lower = sentence.lower() # convert words in a text to lower case\n",
    "        tokens = word_tokenizer.tokenize(sentence_lower) # splits the text into tokens (words)\n",
    "        # remove punct and stop words from tokens\n",
    "        tokens = [word for word in tokens if (word not in string.punctuation and word not in stop_words and word not in dates)]\n",
    "        words.append(tokens) # collect the text tokens\n",
    "    return words"
   ]
  },
  {
   "cell_type": "code",
   "execution_count": 22,
   "metadata": {},
   "outputs": [
    {
     "data": {
      "text/plain": [
       "[['любовь',\n",
       "  'секунду',\n",
       "  'остановилась',\n",
       "  'дверях',\n",
       "  'красиво',\n",
       "  'прищурив',\n",
       "  'глаза',\n",
       "  'гордо',\n",
       "  'сжав',\n",
       "  'губы'],\n",
       " ['оно', 'прежнему', 'колебалось', 'стояло', 'твердо', 'брошенный', 'якорь'],\n",
       " ['старый',\n",
       "  'башкирец',\n",
       "  'молчал',\n",
       "  'глядел',\n",
       "  'коменданта',\n",
       "  'видом',\n",
       "  'совершенного',\n",
       "  'бессмыслия']]"
      ]
     },
     "execution_count": 22,
     "metadata": {},
     "output_type": "execute_result"
    }
   ],
   "source": [
    "words = process_data(sentences_df)\n",
    "words[:3]"
   ]
  },
  {
   "cell_type": "code",
   "execution_count": 23,
   "metadata": {},
   "outputs": [
    {
     "data": {
      "text/plain": [
       "[['любовь',\n",
       "  'секунда',\n",
       "  'остановиться',\n",
       "  'дверь',\n",
       "  'красиво',\n",
       "  'прищурить',\n",
       "  'глаз',\n",
       "  'гордо',\n",
       "  'сжать',\n",
       "  'губа'],\n",
       " ['оно', 'прежний', 'колебаться', 'стоять', 'твёрдо', 'бросить', 'якорь'],\n",
       " ['старый',\n",
       "  'башкирец',\n",
       "  'молчать',\n",
       "  'глядеть',\n",
       "  'комендант',\n",
       "  'вид',\n",
       "  'совершенный',\n",
       "  'бессмыслие']]"
      ]
     },
     "execution_count": 23,
     "metadata": {},
     "output_type": "execute_result"
    }
   ],
   "source": [
    "import pymorphy2\n",
    "morph = pymorphy2.MorphAnalyzer()\n",
    "\n",
    "morph_words = []\n",
    "for words_lst in words:\n",
    "    morph_words.append([morph.parse(word)[0].normal_form for word in words_lst])\n",
    "morph_words[:3]"
   ]
  },
  {
   "cell_type": "code",
   "execution_count": 24,
   "metadata": {},
   "outputs": [
    {
     "name": "stdout",
     "output_type": "stream",
     "text": [
      "<class 'pandas.core.frame.DataFrame'>\n",
      "RangeIndex: 16597 entries, 0 to 16596\n",
      "Data columns (total 3 columns):\n",
      " #   Column              Non-Null Count  Dtype \n",
      "---  ------              --------------  ----- \n",
      " 0   sentence            16597 non-null  object\n",
      " 1   author              16597 non-null  object\n",
      " 2   processed_sentence  16597 non-null  object\n",
      "dtypes: object(3)\n",
      "memory usage: 389.1+ KB\n"
     ]
    },
    {
     "data": {
      "text/html": [
       "<div>\n",
       "<style scoped>\n",
       "    .dataframe tbody tr th:only-of-type {\n",
       "        vertical-align: middle;\n",
       "    }\n",
       "\n",
       "    .dataframe tbody tr th {\n",
       "        vertical-align: top;\n",
       "    }\n",
       "\n",
       "    .dataframe thead th {\n",
       "        text-align: right;\n",
       "    }\n",
       "</style>\n",
       "<table border=\"1\" class=\"dataframe\">\n",
       "  <thead>\n",
       "    <tr style=\"text-align: right;\">\n",
       "      <th></th>\n",
       "      <th>sentence</th>\n",
       "      <th>author</th>\n",
       "      <th>processed_sentence</th>\n",
       "    </tr>\n",
       "  </thead>\n",
       "  <tbody>\n",
       "    <tr>\n",
       "      <th>0</th>\n",
       "      <td>Любовь на секунду остановилась в дверях, кра...</td>\n",
       "      <td>Gorky</td>\n",
       "      <td>любовь секунда остановиться дверь красиво прищ...</td>\n",
       "    </tr>\n",
       "    <tr>\n",
       "      <th>1</th>\n",
       "      <td>Оно по-прежнему не колебалось и стояло твердо...</td>\n",
       "      <td>Turgenev</td>\n",
       "      <td>оно прежний колебаться стоять твёрдо бросить я...</td>\n",
       "    </tr>\n",
       "    <tr>\n",
       "      <th>2</th>\n",
       "      <td>Старый башкирец молчал и глядел на коменданта...</td>\n",
       "      <td>Pushkin</td>\n",
       "      <td>старый башкирец молчать глядеть комендант вид ...</td>\n",
       "    </tr>\n",
       "    <tr>\n",
       "      <th>3</th>\n",
       "      <td>Миленькие вдовушки в девках не сидят; то есть...</td>\n",
       "      <td>Pushkin</td>\n",
       "      <td>миленький вдовушка девка сидеть хотеть сказать...</td>\n",
       "    </tr>\n",
       "    <tr>\n",
       "      <th>4</th>\n",
       "      <td>Это совсем таки интересно  любопытно было бы...</td>\n",
       "      <td>Chekhov</td>\n",
       "      <td>это таки интересно любопытно послушать честной...</td>\n",
       "    </tr>\n",
       "  </tbody>\n",
       "</table>\n",
       "</div>"
      ],
      "text/plain": [
       "                                            sentence    author  \\\n",
       "0    Любовь на секунду остановилась в дверях, кра...     Gorky   \n",
       "1   Оно по-прежнему не колебалось и стояло твердо...  Turgenev   \n",
       "2   Старый башкирец молчал и глядел на коменданта...   Pushkin   \n",
       "3   Миленькие вдовушки в девках не сидят; то есть...   Pushkin   \n",
       "4    Это совсем таки интересно  любопытно было бы...   Chekhov   \n",
       "\n",
       "                                  processed_sentence  \n",
       "0  любовь секунда остановиться дверь красиво прищ...  \n",
       "1  оно прежний колебаться стоять твёрдо бросить я...  \n",
       "2  старый башкирец молчать глядеть комендант вид ...  \n",
       "3  миленький вдовушка девка сидеть хотеть сказать...  \n",
       "4  это таки интересно любопытно послушать честной...  "
      ]
     },
     "execution_count": 24,
     "metadata": {},
     "output_type": "execute_result"
    }
   ],
   "source": [
    "morph_sentences = []\n",
    "for morph_sentence_words in morph_words:\n",
    "    morph_sentence = str()\n",
    "    for morph_word in morph_sentence_words:\n",
    "        morph_sentence += morph_word + ' '\n",
    "    morph_sentences.append(morph_sentence)\n",
    "sentences_df['processed_sentence'] = morph_sentences\n",
    "sentences_df.info()\n",
    "sentences_df.head()"
   ]
  },
  {
   "cell_type": "code",
   "execution_count": 25,
   "metadata": {},
   "outputs": [
    {
     "name": "stderr",
     "output_type": "stream",
     "text": [
      "/home/nickyoleary/.local/lib/python3.9/site-packages/sklearn/utils/deprecation.py:87: FutureWarning: Function get_feature_names is deprecated; get_feature_names is deprecated in 1.0 and will be removed in 1.2. Please use get_feature_names_out instead.\n",
      "  warnings.warn(msg, category=FutureWarning)\n"
     ]
    },
    {
     "data": {
      "text/plain": [
       "['бог',\n",
       " 'быть',\n",
       " 'ваш',\n",
       " 'весь',\n",
       " 'взять',\n",
       " 'видеть',\n",
       " 'время',\n",
       " 'всё',\n",
       " 'глаз',\n",
       " 'говорить']"
      ]
     },
     "execution_count": 25,
     "metadata": {},
     "output_type": "execute_result"
    }
   ],
   "source": [
    "from sklearn.feature_extraction.text import CountVectorizer\n",
    "bag_vectorizer = CountVectorizer(max_features = 50)\n",
    "bag_vectorizer.fit(sentences_df['processed_sentence'].values.tolist())\n",
    "bag_vectorizer.get_feature_names()[:10]"
   ]
  },
  {
   "cell_type": "code",
   "execution_count": 26,
   "metadata": {},
   "outputs": [
    {
     "data": {
      "text/plain": [
       "matrix([[0, 0, 0, 0, 0, 0, 0, 0, 1, 0, 0, 0, 0, 0, 0, 0, 0, 0, 0, 0, 0,\n",
       "         0, 0, 0, 0, 0, 0, 0, 0, 0, 0, 0, 0, 0, 0, 0, 0, 0, 0, 0, 0, 0,\n",
       "         0, 0, 0, 0, 0, 0, 0, 0],\n",
       "        [0, 0, 0, 0, 0, 0, 0, 0, 0, 0, 0, 0, 0, 0, 0, 0, 0, 0, 0, 0, 0,\n",
       "         0, 0, 0, 0, 0, 0, 0, 0, 0, 0, 0, 0, 0, 0, 0, 0, 0, 0, 0, 0, 0,\n",
       "         0, 0, 0, 0, 0, 0, 0, 0],\n",
       "        [0, 0, 0, 0, 0, 0, 0, 0, 0, 0, 0, 0, 0, 0, 0, 0, 0, 0, 0, 0, 0,\n",
       "         0, 0, 0, 0, 0, 0, 0, 0, 0, 0, 0, 0, 0, 0, 0, 0, 0, 0, 0, 0, 0,\n",
       "         0, 0, 0, 0, 0, 0, 0, 0],\n",
       "        [0, 0, 0, 0, 0, 0, 0, 0, 0, 0, 0, 0, 0, 0, 0, 0, 0, 0, 0, 0, 0,\n",
       "         0, 0, 0, 0, 0, 0, 0, 0, 0, 0, 0, 0, 0, 0, 0, 0, 0, 0, 1, 1, 0,\n",
       "         0, 0, 0, 0, 0, 1, 0, 0],\n",
       "        [0, 0, 0, 0, 0, 0, 0, 0, 0, 0, 0, 0, 0, 0, 0, 0, 0, 0, 0, 0, 0,\n",
       "         0, 0, 0, 0, 0, 0, 0, 0, 0, 0, 0, 0, 0, 0, 0, 0, 0, 0, 0, 0, 1,\n",
       "         0, 0, 0, 0, 0, 0, 0, 1]])"
      ]
     },
     "execution_count": 26,
     "metadata": {},
     "output_type": "execute_result"
    }
   ],
   "source": [
    "bag_sentences = bag_vectorizer.transform(sentences_df['processed_sentence'])\n",
    "bag_sentences.todense()[:5]"
   ]
  },
  {
   "cell_type": "markdown",
   "metadata": {},
   "source": [
    "### The popularity of a word is calculated as its overall frequency in all of the sentences. Columns are 50 most popular words, rows are sentences. An element [i, j] of the table represents the frequency of the word j in sentence i."
   ]
  },
  {
   "cell_type": "code",
   "execution_count": 27,
   "metadata": {},
   "outputs": [
    {
     "data": {
      "text/plain": [
       "['бог',\n",
       " 'брат',\n",
       " 'быть',\n",
       " 'ваш',\n",
       " 'весь',\n",
       " 'взять',\n",
       " 'видеть',\n",
       " 'время',\n",
       " 'всякий',\n",
       " 'всё']"
      ]
     },
     "execution_count": 27,
     "metadata": {},
     "output_type": "execute_result"
    }
   ],
   "source": [
    "from sklearn.feature_extraction.text import TfidfVectorizer, TfidfTransformer\n",
    "td_idf_vectorizer = TfidfVectorizer(max_features = 100)\n",
    "td_idf_vectorizer.fit(sentences_df['processed_sentence'])\n",
    "td_idf_vectorizer.get_feature_names()[:10]"
   ]
  },
  {
   "cell_type": "code",
   "execution_count": 28,
   "metadata": {},
   "outputs": [
    {
     "data": {
      "text/plain": [
       "matrix([[0.        , 0.        , 0.        , 0.        , 0.        ,\n",
       "         0.        , 0.        , 0.        , 0.        , 0.        ,\n",
       "         0.        , 0.62901096, 0.        , 0.        , 0.        ,\n",
       "         0.        , 0.        , 0.        , 0.        , 0.        ,\n",
       "         0.77739643, 0.        , 0.        , 0.        , 0.        ,\n",
       "         0.        , 0.        , 0.        , 0.        , 0.        ,\n",
       "         0.        , 0.        , 0.        , 0.        , 0.        ,\n",
       "         0.        , 0.        , 0.        , 0.        , 0.        ,\n",
       "         0.        , 0.        , 0.        , 0.        , 0.        ,\n",
       "         0.        , 0.        , 0.        , 0.        , 0.        ,\n",
       "         0.        , 0.        , 0.        , 0.        , 0.        ,\n",
       "         0.        , 0.        , 0.        , 0.        , 0.        ,\n",
       "         0.        , 0.        , 0.        , 0.        , 0.        ,\n",
       "         0.        , 0.        , 0.        , 0.        , 0.        ,\n",
       "         0.        , 0.        , 0.        , 0.        , 0.        ,\n",
       "         0.        , 0.        , 0.        , 0.        , 0.        ,\n",
       "         0.        , 0.        , 0.        , 0.        , 0.        ,\n",
       "         0.        , 0.        , 0.        , 0.        , 0.        ,\n",
       "         0.        , 0.        , 0.        , 0.        , 0.        ,\n",
       "         0.        , 0.        , 0.        , 0.        , 0.        ],\n",
       "        [0.        , 0.        , 0.        , 0.        , 0.        ,\n",
       "         0.        , 0.        , 0.        , 0.        , 0.        ,\n",
       "         0.        , 0.        , 0.        , 0.        , 0.        ,\n",
       "         0.        , 0.        , 0.        , 0.        , 0.        ,\n",
       "         0.        , 0.        , 0.        , 0.        , 0.        ,\n",
       "         0.        , 0.        , 0.        , 0.        , 0.        ,\n",
       "         0.        , 0.        , 0.        , 0.        , 0.        ,\n",
       "         0.        , 0.        , 0.        , 0.        , 0.        ,\n",
       "         0.        , 0.        , 0.        , 0.        , 0.        ,\n",
       "         0.        , 0.        , 0.        , 0.        , 0.        ,\n",
       "         0.        , 0.        , 0.        , 0.        , 0.        ,\n",
       "         0.        , 0.        , 0.        , 0.        , 0.        ,\n",
       "         0.        , 0.        , 0.        , 0.        , 0.        ,\n",
       "         0.        , 0.        , 0.        , 0.        , 0.        ,\n",
       "         0.        , 0.        , 0.        , 0.        , 0.        ,\n",
       "         0.        , 0.        , 0.        , 0.        , 0.        ,\n",
       "         0.        , 0.        , 0.        , 0.        , 0.        ,\n",
       "         0.        , 1.        , 0.        , 0.        , 0.        ,\n",
       "         0.        , 0.        , 0.        , 0.        , 0.        ,\n",
       "         0.        , 0.        , 0.        , 0.        , 0.        ],\n",
       "        [0.        , 0.        , 0.        , 0.        , 0.        ,\n",
       "         0.        , 0.        , 0.        , 0.        , 0.        ,\n",
       "         0.        , 0.        , 1.        , 0.        , 0.        ,\n",
       "         0.        , 0.        , 0.        , 0.        , 0.        ,\n",
       "         0.        , 0.        , 0.        , 0.        , 0.        ,\n",
       "         0.        , 0.        , 0.        , 0.        , 0.        ,\n",
       "         0.        , 0.        , 0.        , 0.        , 0.        ,\n",
       "         0.        , 0.        , 0.        , 0.        , 0.        ,\n",
       "         0.        , 0.        , 0.        , 0.        , 0.        ,\n",
       "         0.        , 0.        , 0.        , 0.        , 0.        ,\n",
       "         0.        , 0.        , 0.        , 0.        , 0.        ,\n",
       "         0.        , 0.        , 0.        , 0.        , 0.        ,\n",
       "         0.        , 0.        , 0.        , 0.        , 0.        ,\n",
       "         0.        , 0.        , 0.        , 0.        , 0.        ,\n",
       "         0.        , 0.        , 0.        , 0.        , 0.        ,\n",
       "         0.        , 0.        , 0.        , 0.        , 0.        ,\n",
       "         0.        , 0.        , 0.        , 0.        , 0.        ,\n",
       "         0.        , 0.        , 0.        , 0.        , 0.        ,\n",
       "         0.        , 0.        , 0.        , 0.        , 0.        ,\n",
       "         0.        , 0.        , 0.        , 0.        , 0.        ],\n",
       "        [0.        , 0.        , 0.        , 0.        , 0.        ,\n",
       "         0.        , 0.        , 0.        , 0.        , 0.        ,\n",
       "         0.        , 0.        , 0.        , 0.        , 0.        ,\n",
       "         0.        , 0.        , 0.        , 0.        , 0.        ,\n",
       "         0.        , 0.        , 0.        , 0.        , 0.        ,\n",
       "         0.        , 0.        , 0.        , 0.        , 0.        ,\n",
       "         0.        , 0.        , 0.        , 0.        , 0.        ,\n",
       "         0.        , 0.        , 0.        , 0.        , 0.        ,\n",
       "         0.        , 0.        , 0.        , 0.        , 0.        ,\n",
       "         0.        , 0.        , 0.        , 0.        , 0.        ,\n",
       "         0.        , 0.        , 0.        , 0.        , 0.        ,\n",
       "         0.        , 0.        , 0.        , 0.        , 0.        ,\n",
       "         0.        , 0.        , 0.        , 0.        , 0.        ,\n",
       "         0.        , 0.        , 0.        , 0.        , 0.        ,\n",
       "         0.        , 0.        , 0.        , 0.        , 0.        ,\n",
       "         0.        , 0.        , 0.63731891, 0.47304708, 0.        ,\n",
       "         0.        , 0.        , 0.        , 0.        , 0.        ,\n",
       "         0.        , 0.        , 0.        , 0.        , 0.        ,\n",
       "         0.        , 0.        , 0.        , 0.        , 0.        ,\n",
       "         0.60831823, 0.        , 0.        , 0.        , 0.        ],\n",
       "        [0.        , 0.        , 0.        , 0.        , 0.        ,\n",
       "         0.        , 0.        , 0.        , 0.        , 0.        ,\n",
       "         0.        , 0.        , 0.        , 0.        , 0.        ,\n",
       "         0.        , 0.        , 0.        , 0.        , 0.        ,\n",
       "         0.        , 0.        , 0.        , 0.        , 0.        ,\n",
       "         0.        , 0.        , 0.        , 0.        , 0.        ,\n",
       "         0.        , 0.        , 0.        , 0.        , 0.        ,\n",
       "         0.        , 0.        , 0.        , 0.        , 0.        ,\n",
       "         0.        , 0.        , 0.        , 0.        , 0.        ,\n",
       "         0.        , 0.        , 0.        , 0.        , 0.        ,\n",
       "         0.        , 0.        , 0.        , 0.        , 0.        ,\n",
       "         0.        , 0.        , 0.        , 0.        , 0.        ,\n",
       "         0.        , 0.        , 0.        , 0.        , 0.        ,\n",
       "         0.        , 0.        , 0.        , 0.        , 0.        ,\n",
       "         0.        , 0.        , 0.        , 0.        , 0.        ,\n",
       "         0.        , 0.        , 0.        , 0.        , 0.79771326,\n",
       "         0.        , 0.        , 0.        , 0.        , 0.        ,\n",
       "         0.        , 0.        , 0.        , 0.        , 0.        ,\n",
       "         0.        , 0.        , 0.        , 0.        , 0.        ,\n",
       "         0.        , 0.        , 0.        , 0.60303694, 0.        ]])"
      ]
     },
     "execution_count": 28,
     "metadata": {},
     "output_type": "execute_result"
    }
   ],
   "source": [
    "td_idf_sentences = td_idf_vectorizer.transform(sentences_df['processed_sentence'])\n",
    "td_idf_sentences.todense()[:5]"
   ]
  },
  {
   "cell_type": "markdown",
   "metadata": {},
   "source": [
    "### The popularity of a word takes into consideration not only the overall frequency, but also distribution of this frequency around sentences, i.e. the number of sentences with this word and the frequency of the word in those sentences. Columns are 100 most popular words, rows - sentences. An element [i, j] of the table represents the frequency of the word j in sentence i, multiplied by log of the overall number of sentences divided by the number of sentences containing the given word."
   ]
  },
  {
   "cell_type": "markdown",
   "metadata": {},
   "source": [
    "### Thus, some differences in the popularities of words between these two models are acceptable."
   ]
  },
  {
   "cell_type": "markdown",
   "metadata": {},
   "source": [
    "###  Binary classification\n",
    "\n",
    "#### 8. [2 point] Train model using Logistic Regression (your own) and SVC (SVM can be taken from sklearn) \n",
    "\n",
    "##### 1. [1 point]\n",
    "* choose *two* authors from the dataset that you have formed in the previous task\n",
    "* check the balance of the classes\n",
    "* divide the data into train and test samples with 3/4 split rate (don't forget to fix the random state)\n",
    "* train the models using cross validation\n",
    "* plot confusion matrix for train and test samples\n",
    "* compute all possible and relevant metrics for test sample (useful to check the seminars 5 and 6, use sklearn) \n",
    "* make conclusions about the performance of your models\n",
    "\n",
    "##### 2. [1 point]\n",
    "* using GridSearchCV - find the best parameters for the models (by ROC_AUC score)\n",
    "* make several plots to address the dependence between ROC_AUC score and parameters\n",
    "* make conclusions about the models\n",
    "\n",
    "**HINT:** In the task 8.2 you should analyze models for binary classification task. How do you think the AUC_ROC should be high? Is the 0.6 enough for us?"
   ]
  },
  {
   "cell_type": "code",
   "execution_count": 29,
   "metadata": {},
   "outputs": [
    {
     "name": "stdout",
     "output_type": "stream",
     "text": [
      "Balance coefficient: 1.333256351039261\n"
     ]
    },
    {
     "name": "stderr",
     "output_type": "stream",
     "text": [
      "/tmp/ipykernel_41867/838257568.py:2: SettingWithCopyWarning: \n",
      "A value is trying to be set on a copy of a slice from a DataFrame.\n",
      "Try using .loc[row_indexer,col_indexer] = value instead\n",
      "\n",
      "See the caveats in the documentation: https://pandas.pydata.org/pandas-docs/stable/user_guide/indexing.html#returning-a-view-versus-a-copy\n",
      "  partial_df['author_index'] = [1 if x == 'Gorky' else -1 for x in partial_df['author']]\n"
     ]
    },
    {
     "data": {
      "text/html": [
       "<div>\n",
       "<style scoped>\n",
       "    .dataframe tbody tr th:only-of-type {\n",
       "        vertical-align: middle;\n",
       "    }\n",
       "\n",
       "    .dataframe tbody tr th {\n",
       "        vertical-align: top;\n",
       "    }\n",
       "\n",
       "    .dataframe thead th {\n",
       "        text-align: right;\n",
       "    }\n",
       "</style>\n",
       "<table border=\"1\" class=\"dataframe\">\n",
       "  <thead>\n",
       "    <tr style=\"text-align: right;\">\n",
       "      <th></th>\n",
       "      <th>sentence</th>\n",
       "      <th>author</th>\n",
       "      <th>processed_sentence</th>\n",
       "      <th>author_index</th>\n",
       "    </tr>\n",
       "  </thead>\n",
       "  <tbody>\n",
       "    <tr>\n",
       "      <th>0</th>\n",
       "      <td>Любовь на секунду остановилась в дверях, кра...</td>\n",
       "      <td>Gorky</td>\n",
       "      <td>любовь секунда остановиться дверь красиво прищ...</td>\n",
       "      <td>1</td>\n",
       "    </tr>\n",
       "    <tr>\n",
       "      <th>1</th>\n",
       "      <td>Оно по-прежнему не колебалось и стояло твердо...</td>\n",
       "      <td>Turgenev</td>\n",
       "      <td>оно прежний колебаться стоять твёрдо бросить я...</td>\n",
       "      <td>-1</td>\n",
       "    </tr>\n",
       "    <tr>\n",
       "      <th>2</th>\n",
       "      <td>- Машей,- отвечала она тихим голосом, украдк...</td>\n",
       "      <td>Turgenev</td>\n",
       "      <td>маша отвечать тихий голос украдкой взглянуть</td>\n",
       "      <td>-1</td>\n",
       "    </tr>\n",
       "    <tr>\n",
       "      <th>3</th>\n",
       "      <td>Худые старички в скромных сюртуках читали рус...</td>\n",
       "      <td>Turgenev</td>\n",
       "      <td>худой старичок скромный сюртук читать русский ...</td>\n",
       "      <td>-1</td>\n",
       "    </tr>\n",
       "    <tr>\n",
       "      <th>4</th>\n",
       "      <td>Да ведь как говорил</td>\n",
       "      <td>Turgenev</td>\n",
       "      <td>говорить</td>\n",
       "      <td>-1</td>\n",
       "    </tr>\n",
       "  </tbody>\n",
       "</table>\n",
       "</div>"
      ],
      "text/plain": [
       "                                            sentence    author  \\\n",
       "0    Любовь на секунду остановилась в дверях, кра...     Gorky   \n",
       "1   Оно по-прежнему не колебалось и стояло твердо...  Turgenev   \n",
       "2    - Машей,- отвечала она тихим голосом, украдк...  Turgenev   \n",
       "3   Худые старички в скромных сюртуках читали рус...  Turgenev   \n",
       "4                                Да ведь как говорил  Turgenev   \n",
       "\n",
       "                                  processed_sentence  author_index  \n",
       "0  любовь секунда остановиться дверь красиво прищ...             1  \n",
       "1  оно прежний колебаться стоять твёрдо бросить я...            -1  \n",
       "2      маша отвечать тихий голос украдкой взглянуть             -1  \n",
       "3  худой старичок скромный сюртук читать русский ...            -1  \n",
       "4                                          говорить             -1  "
      ]
     },
     "execution_count": 29,
     "metadata": {},
     "output_type": "execute_result"
    }
   ],
   "source": [
    "partial_df = sentences_df[(sentences_df['author'] =='Turgenev') | (sentences_df['author'] == 'Gorky')]\n",
    "partial_df['author_index'] = [1 if x == 'Gorky' else -1 for x in partial_df['author']]\n",
    "partial_df = partial_df.reset_index(drop=True)\n",
    "print('Balance coefficient:', partial_df[partial_df['author'] == 'Gorky'].shape[0] / \\\n",
    "     partial_df[partial_df['author'] == 'Turgenev'].shape[0])\n",
    "partial_df.head()"
   ]
  },
  {
   "cell_type": "code",
   "execution_count": 30,
   "metadata": {},
   "outputs": [],
   "source": [
    "from sklearn.model_selection import train_test_split, GridSearchCV\n",
    "\n",
    "train_X, test_X, train_y, test_y = train_test_split(partial_df['processed_sentence'], partial_df['author_index'],\\\n",
    "                                                    stratify=partial_df['author_index'], test_size=0.25, \\\n",
    "                                                    random_state=42)"
   ]
  },
  {
   "cell_type": "code",
   "execution_count": 31,
   "metadata": {},
   "outputs": [],
   "source": [
    "vectorizer = TfidfVectorizer(max_features=100) \n",
    "vectorizer.fit(train_X)\n",
    "train_X = vectorizer.transform(train_X)\n",
    "test_X = vectorizer.transform(test_X)\n",
    "\n",
    "train_X = np.array(train_X.todense())\n",
    "test_X = np.array(test_X.todense())\n",
    "train_y = np.array(train_y)\n",
    "test_y = np.array(test_y)"
   ]
  },
  {
   "cell_type": "code",
   "execution_count": 32,
   "metadata": {},
   "outputs": [],
   "source": [
    "from sklearn.metrics import *\n",
    "\n",
    "def show_results(test_y, pred, proba):\n",
    "    print(\"Precision: {0:6.2f}\".format(precision_score(test_y, pred, average='macro')))\n",
    "    print(\"Recall: {0:6.2f}\".format(recall_score(test_y, pred, average='macro')))\n",
    "    print(\"F1-measure: {0:6.2f}\".format(f1_score(test_y, pred, average='macro')))\n",
    "    print(\"Accuracy: {0:6.2f}\".format(accuracy_score(test_y, pred)))\n",
    "    print(\"ROC-AUC  =  {0:6.2f}\".format(roc_auc_score(test_y, proba)))\n",
    "    print('\\n')\n",
    "    labels = ['negative','positive']\n",
    "\n",
    "    #classification_report\n",
    "    sns.heatmap(data=confusion_matrix(test_y, pred), annot=True, fmt=\"d\", cbar=False, xticklabels=labels, yticklabels=labels)\n",
    "    plt.title(\"Confusion matrix \")\n",
    "    plt.show()"
   ]
  },
  {
   "cell_type": "code",
   "execution_count": 33,
   "metadata": {},
   "outputs": [
    {
     "name": "stdout",
     "output_type": "stream",
     "text": [
      "Best parameters:  {'beta': 0.0, 'gamma': 0.5, 'lr': 0.01, 'max_iter': 1000}\n",
      "Precision:   0.29\n",
      "Recall:   0.50\n",
      "F1-measure:   0.36\n",
      "Accuracy:   0.57\n",
      "ROC-AUC  =    0.52\n",
      "\n",
      "\n"
     ]
    },
    {
     "name": "stderr",
     "output_type": "stream",
     "text": [
      "/home/nickyoleary/.local/lib/python3.9/site-packages/sklearn/metrics/_classification.py:1308: UndefinedMetricWarning: Precision is ill-defined and being set to 0.0 in labels with no predicted samples. Use `zero_division` parameter to control this behavior.\n",
      "  _warn_prf(average, modifier, msg_start, len(result))\n"
     ]
    },
    {
     "data": {
      "image/png": "[encoded data removed]",
      "text/plain": [
       "<Figure size 432x288 with 1 Axes>"
      ]
     },
     "metadata": {},
     "output_type": "display_data"
    }
   ],
   "source": [
    "from sklearn.model_selection import GridSearchCV\n",
    "\n",
    "parameters = {'beta': np.linspace(0, 1, 3), 'gamma' : np.linspace(0, 1, 3),\\\n",
    "              'lr': np.logspace(-3, -1, 3),'max_iter': np.linspace(1000, 2000, 3, dtype=int)}\n",
    "clf = GridSearchCV(Logit(), parameters, scoring='f1', n_jobs=-1)\n",
    "clf.fit(train_X, train_y)\n",
    "print('Best parameters: ', clf.best_params_)\n",
    "pred_y = clf.predict(test_X)\n",
    "proba_y  = clf.predict_proba(test_X)\n",
    "show_results(test_y, pred_y, proba_y)"
   ]
  },
  {
   "cell_type": "code",
   "execution_count": 34,
   "metadata": {},
   "outputs": [
    {
     "name": "stdout",
     "output_type": "stream",
     "text": [
      "Fitting 2 folds for each of 56 candidates, totalling 112 fits\n",
      "{'C': 0.1, 'class_weight': None, 'kernel': 'sigmoid'}\n",
      "Precision:   0.64\n",
      "Recall:   0.56\n",
      "F1-measure:   0.51\n",
      "Accuracy:   0.61\n",
      "ROC-AUC  =    0.64\n",
      "\n",
      "\n"
     ]
    },
    {
     "data": {
      "image/png": "[encoded data removed]",
      "text/plain": [
       "<Figure size 432x288 with 1 Axes>"
      ]
     },
     "metadata": {},
     "output_type": "display_data"
    }
   ],
   "source": [
    "from sklearn.svm import SVC\n",
    "\n",
    "parameters = {'kernel':('linear', 'rbf', 'poly', 'sigmoid'), 'C': np.logspace(-3, 3, 7), \\\n",
    "              'class_weight' : ['balanced', None]}\n",
    "svr = SVC(probability=True, verbose = False)\n",
    "clf = GridSearchCV(svr, parameters, scoring='f1', verbose=2, cv=2, n_jobs=-1)\n",
    "clf.fit(train_X, train_y)\n",
    "print(clf.best_params_)\n",
    "pred_y = clf.predict(test_X)\n",
    "proba_y  = clf.predict_proba(test_X)\n",
    "show_results(test_y, pred_y, proba_y[:,1])"
   ]
  },
  {
   "cell_type": "markdown",
   "metadata": {},
   "source": [
    "### As we can see, both the Logit and the SVC classifiers demonstrate quite a bad performance with f1-score.  This may be due to completely different issues, for instance: max_features in vectorizer, balance of the data, threshold etc. Moreover, any model seems to be unstable due to the dataset content, which can always be unrepresentative."
   ]
  },
  {
   "cell_type": "code",
   "execution_count": 35,
   "metadata": {},
   "outputs": [
    {
     "name": "stdout",
     "output_type": "stream",
     "text": [
      "Best parameters:  {'beta': 0.5, 'gamma': 0.0, 'lr': 0.1, 'max_iter': 2000}\n",
      "Precision:   0.29\n",
      "Recall:   0.50\n",
      "F1-measure:   0.36\n",
      "Accuracy:   0.57\n",
      "ROC-AUC  =    0.66\n",
      "\n",
      "\n"
     ]
    },
    {
     "name": "stderr",
     "output_type": "stream",
     "text": [
      "/home/nickyoleary/.local/lib/python3.9/site-packages/sklearn/metrics/_classification.py:1308: UndefinedMetricWarning: Precision is ill-defined and being set to 0.0 in labels with no predicted samples. Use `zero_division` parameter to control this behavior.\n",
      "  _warn_prf(average, modifier, msg_start, len(result))\n"
     ]
    },
    {
     "data": {
      "image/png": "[encoded data removed]",
      "text/plain": [
       "<Figure size 432x288 with 1 Axes>"
      ]
     },
     "metadata": {},
     "output_type": "display_data"
    }
   ],
   "source": [
    "parameters = {'beta': np.linspace(0, 1, 3), 'gamma' : np.linspace(0, 1, 3),\\\n",
    "              'lr': np.logspace(-3, -1, 3), 'max_iter': np.linspace(1000, 2000, 3, dtype=int)}\n",
    "clf = GridSearchCV(Logit(), parameters, scoring='roc_auc', n_jobs=-1)\n",
    "clf.fit(train_X, train_y)\n",
    "pred_y = clf.predict(test_X)\n",
    "proba_y  = clf.predict_proba(test_X)\n",
    "print('Best parameters: ', clf.best_params_)\n",
    "show_results(test_y, pred_y, proba_y)"
   ]
  },
  {
   "cell_type": "code",
   "execution_count": 36,
   "metadata": {},
   "outputs": [
    {
     "data": {
      "text/plain": [
       "[<matplotlib.lines.Line2D at 0x7f71661b2880>]"
      ]
     },
     "execution_count": 36,
     "metadata": {},
     "output_type": "execute_result"
    },
    {
     "data": {
      "image/png": "[encoded data removed]",
      "text/plain": [
       "<Figure size 1440x360 with 4 Axes>"
      ]
     },
     "metadata": {},
     "output_type": "display_data"
    }
   ],
   "source": [
    "beta_lst = []\n",
    "for beta in np.linspace(0, 1, 3):\n",
    "    model = Logit(beta=beta, gamma=clf.best_params_['gamma'], lr=clf.best_params_['lr'],\\\n",
    "                 max_iter=clf.best_params_['max_iter'])\n",
    "    model.fit(train_X, train_y)\n",
    "    proba_y  = model.predict_proba(test_X)\n",
    "    beta_lst.append(roc_auc_score(test_y, proba_y))\n",
    "\n",
    "gamma_lst = []\n",
    "for gamma in np.linspace(0, 1, 3):\n",
    "    model = Logit(beta=clf.best_params_['beta'], gamma=gamma, lr=clf.best_params_['lr'],\\\n",
    "                 max_iter=clf.best_params_['max_iter'])\n",
    "    model.fit(train_X, train_y)\n",
    "    proba_y  = model.predict_proba(test_X)\n",
    "    gamma_lst.append(roc_auc_score(test_y, proba_y))\n",
    "\n",
    "lr_lst = []\n",
    "for lr in np.logspace(-3, -1, 3):\n",
    "    model = Logit(beta=clf.best_params_['beta'], gamma=clf.best_params_['gamma'], lr=lr,\\\n",
    "                 max_iter=clf.best_params_['max_iter'])\n",
    "    model.fit(train_X, train_y)\n",
    "    proba_y  = model.predict_proba(test_X)\n",
    "    lr_lst.append(roc_auc_score(test_y, proba_y))\n",
    "\n",
    "max_iter_lst = []\n",
    "for max_iter in np.linspace(1000, 2000, 3, dtype=int):\n",
    "    model = Logit(beta=clf.best_params_['beta'], gamma=clf.best_params_['gamma'], lr=clf.best_params_['lr'],\\\n",
    "                 max_iter=max_iter)\n",
    "    model.fit(train_X, train_y)\n",
    "    proba_y  = model.predict_proba(test_X)\n",
    "    max_iter_lst.append(roc_auc_score(test_y, proba_y))\n",
    "\n",
    "fig, axs = plt.subplots(1, 4, figsize=(20,5))\n",
    "fig.suptitle('Logit')\n",
    "axs[0].set_title('beta')\n",
    "axs[0].plot(np.linspace(0, 1, 3), beta_lst)\n",
    "axs[1].set_title('gamma')\n",
    "axs[1].plot(np.linspace(0, 1, 3), gamma_lst)\n",
    "axs[2].set_title('lr')\n",
    "axs[2].plot(np.logspace(-3, -1, 3), lr_lst)\n",
    "axs[3].set_title('max_iter')\n",
    "axs[3].plot(np.linspace(1000, 2000, 3), max_iter_lst)"
   ]
  },
  {
   "cell_type": "markdown",
   "metadata": {},
   "source": [
    "### Somewhy, the Logit model still refuses to predict one of 2 classes. An obvious idea is to try changing the threshold value, but it seems to be baseless: a huge variety of factors could have influenced the result."
   ]
  },
  {
   "cell_type": "code",
   "execution_count": 37,
   "metadata": {},
   "outputs": [
    {
     "name": "stdout",
     "output_type": "stream",
     "text": [
      "Fitting 2 folds for each of 56 candidates, totalling 112 fits\n",
      "{'C': 0.1, 'class_weight': 'balanced', 'kernel': 'linear'}\n",
      "Precision:   0.63\n",
      "Recall:   0.61\n",
      "F1-measure:   0.58\n",
      "Accuracy:   0.59\n",
      "ROC-AUC  =    0.65\n",
      "\n",
      "\n"
     ]
    },
    {
     "data": {
      "image/png": "[encoded data removed]",
      "text/plain": [
       "<Figure size 432x288 with 1 Axes>"
      ]
     },
     "metadata": {},
     "output_type": "display_data"
    }
   ],
   "source": [
    "parameters = {'kernel':('linear', 'rbf', 'poly', 'sigmoid'), 'C': np.logspace(-3, 3, 7), \\\n",
    "              'class_weight' : ['balanced', None]}\n",
    "svr = SVC(probability=True, verbose = False)\n",
    "clf = GridSearchCV(svr, parameters, scoring = 'roc_auc', verbose=2, cv=2, n_jobs=-1)\n",
    "clf.fit(train_X, train_y)\n",
    "print(clf.best_params_)\n",
    "pred_y = clf.predict(test_X)\n",
    "proba_y  = clf.predict_proba(test_X)\n",
    "show_results(test_y, pred_y, proba_y[:,1])"
   ]
  },
  {
   "cell_type": "code",
   "execution_count": 43,
   "metadata": {},
   "outputs": [
    {
     "data": {
      "text/plain": [
       "[<matplotlib.lines.Line2D at 0x7f7164441610>]"
      ]
     },
     "execution_count": 43,
     "metadata": {},
     "output_type": "execute_result"
    },
    {
     "data": {
      "image/png": "[encoded data removed]",
      "text/plain": [
       "<Figure size 1080x360 with 3 Axes>"
      ]
     },
     "metadata": {},
     "output_type": "display_data"
    }
   ],
   "source": [
    "kernel_lst = []\n",
    "for kernel in ['linear', 'rbf', 'poly', 'sigmoid']:\n",
    "    model = SVC(kernel=kernel, C=clf.best_params_['C'], class_weight=clf.best_params_['class_weight'])\n",
    "    model.fit(train_X, train_y)\n",
    "    proba_y  = model.decision_function(test_X)\n",
    "    kernel_lst.append(roc_auc_score(test_y, proba_y))\n",
    "\n",
    "C_lst = []\n",
    "for C in np.logspace(-3, 3, 7):\n",
    "    model = SVC(kernel=clf.best_params_['kernel'], C=C, class_weight=clf.best_params_['class_weight'])\n",
    "    model.fit(train_X, train_y)\n",
    "    proba_y  = model.decision_function(test_X)\n",
    "    C_lst.append(roc_auc_score(test_y, proba_y))\n",
    "\n",
    "class_weight_lst = []\n",
    "for class_weight in ['balanced', None]:\n",
    "    model = SVC(kernel=clf.best_params_['kernel'], C=clf.best_params_['C'], class_weight=class_weight)\n",
    "    model.fit(train_X, train_y)\n",
    "    proba_y  = model.decision_function(test_X)\n",
    "    class_weight_lst.append(roc_auc_score(test_y, proba_y))\n",
    "\n",
    "fig, axs = plt.subplots(1, 3, figsize=(15,5))\n",
    "fig.suptitle('SVC')\n",
    "axs[0].set_title('kernel')\n",
    "axs[0].plot(['linear', 'rbf', 'poly', 'sigmoid'], kernel_lst)\n",
    "axs[1].set_title('C')\n",
    "axs[1].plot(np.logspace(-3, 3, 7), C_lst)\n",
    "axs[2].set_title('class_weight')\n",
    "axs[2].plot(class_weight_lst)"
   ]
  },
  {
   "cell_type": "markdown",
   "metadata": {},
   "source": [
    "### SVC model demonstrated an essential change to predicting another class more, but at the same time none of the metrics appeared to increase at least bit (most of them even slightly fell)."
   ]
  },
  {
   "cell_type": "markdown",
   "metadata": {},
   "source": [
    "#### 9. [1 point] Analysing ROC_AUC\n",
    "\n",
    "It is possible to control the proportion of statistical errors of different types using different thresholds for choosing a class. Plot ROC curves for Logistic Regression and SVC, show the threshold on ROC curve plots. Choose such a threshold that your models have no more than 30% of false positive errors rate "
   ]
  },
  {
   "cell_type": "code",
   "execution_count": 44,
   "metadata": {},
   "outputs": [
    {
     "name": "stderr",
     "output_type": "stream",
     "text": [
      "/home/nickyoleary/.local/lib/python3.9/site-packages/sklearn/utils/deprecation.py:87: FutureWarning: Function plot_roc_curve is deprecated; Function `plot_roc_curve` is deprecated in 1.0 and will be removed in 1.2. Use one of the class methods: RocCurveDisplay.from_predictions or RocCurveDisplay.from_estimator.\n",
      "  warnings.warn(msg, category=FutureWarning)\n"
     ]
    },
    {
     "data": {
      "text/plain": [
       "<sklearn.metrics._plot.roc_curve.RocCurveDisplay at 0x7f7165cdd100>"
      ]
     },
     "execution_count": 44,
     "metadata": {},
     "output_type": "execute_result"
    },
    {
     "data": {
      "image/png": "[encoded data removed]",
      "text/plain": [
       "<Figure size 432x288 with 1 Axes>"
      ]
     },
     "metadata": {},
     "output_type": "display_data"
    }
   ],
   "source": [
    "from sklearn import metrics\n",
    "\n",
    "#Let us take best parameters from the previous task\n",
    "model = Logit(beta=0.0, gamma=0.5, lr=0.01, max_iter=1000)\n",
    "model.fit(train_X, train_y)\n",
    "metrics.plot_roc_curve(model, test_X, test_y)"
   ]
  },
  {
   "cell_type": "code",
   "execution_count": 46,
   "metadata": {},
   "outputs": [
    {
     "name": "stderr",
     "output_type": "stream",
     "text": [
      "/home/nickyoleary/.local/lib/python3.9/site-packages/sklearn/utils/deprecation.py:87: FutureWarning: Function plot_roc_curve is deprecated; Function `plot_roc_curve` is deprecated in 1.0 and will be removed in 1.2. Use one of the class methods: RocCurveDisplay.from_predictions or RocCurveDisplay.from_estimator.\n",
      "  warnings.warn(msg, category=FutureWarning)\n"
     ]
    },
    {
     "data": {
      "text/plain": [
       "<sklearn.metrics._plot.roc_curve.RocCurveDisplay at 0x7f71645f6940>"
      ]
     },
     "execution_count": 46,
     "metadata": {},
     "output_type": "execute_result"
    },
    {
     "data": {
      "image/png": "[encoded data removed]",
      "text/plain": [
       "<Figure size 432x288 with 1 Axes>"
      ]
     },
     "metadata": {},
     "output_type": "display_data"
    }
   ],
   "source": [
    "model = SVC(kernel='sigmoid', C=0.01, class_weight=None)\n",
    "model.fit(train_X, train_y)\n",
    "metrics.plot_roc_curve(clf, test_X, test_y)"
   ]
  },
  {
   "cell_type": "markdown",
   "metadata": {},
   "source": [
    "### Multiclass logit"
   ]
  },
  {
   "cell_type": "markdown",
   "metadata": {},
   "source": [
    "#### 10. [1 point] Take the One-VS-Rest classifier (use sklearn) and apply to Logit model (one you've made in the 4th task) in order to get multiclass linear classifier\n",
    "\n",
    "<a href=\"https://scikit-learn.org/stable/modules/generated/sklearn.multiclass.OneVsRestClassifier.html\">OneVsRestClassifier</a>\n",
    "\n",
    "* use the whole dataset with 6 authors\n",
    "* divide the data into train and test samples with 3/4 split rate\n",
    "* train the model using cross validation\n",
    "* plot confusion matrix for train and test samples\n",
    "* compute all possible and relevant metrics for test sample (use sklearn)\n",
    "* using GridSearchCV - find the best parameters for the models (by averaged ROC_AUC score). **HINT:** Do not forget about set jobs=-1 in the GridSearchCV init to speed up calculations.\n",
    "* make conclusions about the model"
   ]
  },
  {
   "cell_type": "code",
   "execution_count": 47,
   "metadata": {},
   "outputs": [],
   "source": [
    "sentences_df['author_index'] = [0 if x == 'Blok' else 1 if x == 'Lermontov' else \\\n",
    "                                2 if x == 'Pushkin' else 3 if x == 'Chekhov' else \\\n",
    "                                4 if x == 'Turgenev' else 5 for x in sentences_df['author']]"
   ]
  },
  {
   "cell_type": "code",
   "execution_count": 56,
   "metadata": {},
   "outputs": [
    {
     "data": {
      "text/html": [
       "<div>\n",
       "<style scoped>\n",
       "    .dataframe tbody tr th:only-of-type {\n",
       "        vertical-align: middle;\n",
       "    }\n",
       "\n",
       "    .dataframe tbody tr th {\n",
       "        vertical-align: top;\n",
       "    }\n",
       "\n",
       "    .dataframe thead th {\n",
       "        text-align: right;\n",
       "    }\n",
       "</style>\n",
       "<table border=\"1\" class=\"dataframe\">\n",
       "  <thead>\n",
       "    <tr style=\"text-align: right;\">\n",
       "      <th></th>\n",
       "      <th>sentence</th>\n",
       "      <th>author</th>\n",
       "      <th>processed_sentence</th>\n",
       "      <th>author_index</th>\n",
       "    </tr>\n",
       "  </thead>\n",
       "  <tbody>\n",
       "    <tr>\n",
       "      <th>0</th>\n",
       "      <td>Любовь на секунду остановилась в дверях, кра...</td>\n",
       "      <td>Gorky</td>\n",
       "      <td>любовь секунда остановиться дверь красиво прищ...</td>\n",
       "      <td>5</td>\n",
       "    </tr>\n",
       "    <tr>\n",
       "      <th>1</th>\n",
       "      <td>Оно по-прежнему не колебалось и стояло твердо...</td>\n",
       "      <td>Turgenev</td>\n",
       "      <td>оно прежний колебаться стоять твёрдо бросить я...</td>\n",
       "      <td>4</td>\n",
       "    </tr>\n",
       "    <tr>\n",
       "      <th>2</th>\n",
       "      <td>Старый башкирец молчал и глядел на коменданта...</td>\n",
       "      <td>Pushkin</td>\n",
       "      <td>старый башкирец молчать глядеть комендант вид ...</td>\n",
       "      <td>2</td>\n",
       "    </tr>\n",
       "    <tr>\n",
       "      <th>3</th>\n",
       "      <td>Миленькие вдовушки в девках не сидят; то есть...</td>\n",
       "      <td>Pushkin</td>\n",
       "      <td>миленький вдовушка девка сидеть хотеть сказать...</td>\n",
       "      <td>2</td>\n",
       "    </tr>\n",
       "    <tr>\n",
       "      <th>4</th>\n",
       "      <td>Это совсем таки интересно  любопытно было бы...</td>\n",
       "      <td>Chekhov</td>\n",
       "      <td>это таки интересно любопытно послушать честной...</td>\n",
       "      <td>3</td>\n",
       "    </tr>\n",
       "    <tr>\n",
       "      <th>5</th>\n",
       "      <td>- Машей,- отвечала она тихим голосом, украдк...</td>\n",
       "      <td>Turgenev</td>\n",
       "      <td>маша отвечать тихий голос украдкой взглянуть</td>\n",
       "      <td>4</td>\n",
       "    </tr>\n",
       "    <tr>\n",
       "      <th>6</th>\n",
       "      <td>Худые старички в скромных сюртуках читали рус...</td>\n",
       "      <td>Turgenev</td>\n",
       "      <td>худой старичок скромный сюртук читать русский ...</td>\n",
       "      <td>4</td>\n",
       "    </tr>\n",
       "    <tr>\n",
       "      <th>7</th>\n",
       "      <td>(Закрывает лицо руками</td>\n",
       "      <td>Chekhov</td>\n",
       "      <td>закрывать лицо рука</td>\n",
       "      <td>3</td>\n",
       "    </tr>\n",
       "    <tr>\n",
       "      <th>8</th>\n",
       "      <td>одно из главных действующих лиц оставляет пол...</td>\n",
       "      <td>Chekhov</td>\n",
       "      <td>один главный действовать лицо оставлять поле б...</td>\n",
       "      <td>3</td>\n",
       "    </tr>\n",
       "    <tr>\n",
       "      <th>9</th>\n",
       "      <td>Она замучила меня своею ревностью</td>\n",
       "      <td>Lermontov</td>\n",
       "      <td>замучить свой ревность</td>\n",
       "      <td>1</td>\n",
       "    </tr>\n",
       "    <tr>\n",
       "      <th>10</th>\n",
       "      <td>Да ведь как говорил</td>\n",
       "      <td>Turgenev</td>\n",
       "      <td>говорить</td>\n",
       "      <td>4</td>\n",
       "    </tr>\n",
       "    <tr>\n",
       "      <th>11</th>\n",
       "      <td>это она его подговорила мужа убить</td>\n",
       "      <td>Gorky</td>\n",
       "      <td>это подговорить муж убить</td>\n",
       "      <td>5</td>\n",
       "    </tr>\n",
       "    <tr>\n",
       "      <th>12</th>\n",
       "      <td>Литвинов влюбился в Ирину, как только увид...</td>\n",
       "      <td>Turgenev</td>\n",
       "      <td>литвинов влюбиться ирина увидать три год старш...</td>\n",
       "      <td>4</td>\n",
       "    </tr>\n",
       "    <tr>\n",
       "      <th>13</th>\n",
       "      <td>Мы перешли в конуру татарки, старик сел н...</td>\n",
       "      <td>Gorky</td>\n",
       "      <td>переслать конура татарка старик сесть постель ...</td>\n",
       "      <td>5</td>\n",
       "    </tr>\n",
       "    <tr>\n",
       "      <th>14</th>\n",
       "      <td>Через минуту он, свободно вздыхая, сидел в с...</td>\n",
       "      <td>Gorky</td>\n",
       "      <td>минута свободно вздыхать сидеть свой коляска д...</td>\n",
       "      <td>5</td>\n",
       "    </tr>\n",
       "    <tr>\n",
       "      <th>15</th>\n",
       "      <td>Определи ее на постой, говорит</td>\n",
       "      <td>Gorky</td>\n",
       "      <td>определить постоять говорить</td>\n",
       "      <td>5</td>\n",
       "    </tr>\n",
       "    <tr>\n",
       "      <th>16</th>\n",
       "      <td>- Сказал Яков-то, успел</td>\n",
       "      <td>Gorky</td>\n",
       "      <td>сказать яков успеть</td>\n",
       "      <td>5</td>\n",
       "    </tr>\n",
       "    <tr>\n",
       "      <th>17</th>\n",
       "      <td>Пугачев, узнав о том, обратился к Алатырю; но...</td>\n",
       "      <td>Pushkin</td>\n",
       "      <td>пугачёв узнать обратиться алатырь прикрывать с...</td>\n",
       "      <td>2</td>\n",
       "    </tr>\n",
       "    <tr>\n",
       "      <th>18</th>\n",
       "      <td>говорил Мишка, ласково улыбаясь мне своими м...</td>\n",
       "      <td>Gorky</td>\n",
       "      <td>говорить мишка ласково улыбаться свой милый глаз</td>\n",
       "      <td>5</td>\n",
       "    </tr>\n",
       "    <tr>\n",
       "      <th>19</th>\n",
       "      <td>она его вчера лизнула</td>\n",
       "      <td>Turgenev</td>\n",
       "      <td>вчера лизнуть</td>\n",
       "      <td>4</td>\n",
       "    </tr>\n",
       "  </tbody>\n",
       "</table>\n",
       "</div>"
      ],
      "text/plain": [
       "                                             sentence     author  \\\n",
       "0     Любовь на секунду остановилась в дверях, кра...      Gorky   \n",
       "1    Оно по-прежнему не колебалось и стояло твердо...   Turgenev   \n",
       "2    Старый башкирец молчал и глядел на коменданта...    Pushkin   \n",
       "3    Миленькие вдовушки в девках не сидят; то есть...    Pushkin   \n",
       "4     Это совсем таки интересно  любопытно было бы...    Chekhov   \n",
       "5     - Машей,- отвечала она тихим голосом, украдк...   Turgenev   \n",
       "6    Худые старички в скромных сюртуках читали рус...   Turgenev   \n",
       "7                              (Закрывает лицо руками    Chekhov   \n",
       "8    одно из главных действующих лиц оставляет пол...    Chekhov   \n",
       "9                   Она замучила меня своею ревностью  Lermontov   \n",
       "10                                Да ведь как говорил   Turgenev   \n",
       "11                 это она его подговорила мужа убить      Gorky   \n",
       "12      Литвинов влюбился в Ирину, как только увид...   Turgenev   \n",
       "13       Мы перешли в конуру татарки, старик сел н...      Gorky   \n",
       "14    Через минуту он, свободно вздыхая, сидел в с...      Gorky   \n",
       "15                     Определи ее на постой, говорит      Gorky   \n",
       "16                            - Сказал Яков-то, успел      Gorky   \n",
       "17   Пугачев, узнав о том, обратился к Алатырю; но...    Pushkin   \n",
       "18    говорил Мишка, ласково улыбаясь мне своими м...      Gorky   \n",
       "19                              она его вчера лизнула   Turgenev   \n",
       "\n",
       "                                   processed_sentence  author_index  \n",
       "0   любовь секунда остановиться дверь красиво прищ...             5  \n",
       "1   оно прежний колебаться стоять твёрдо бросить я...             4  \n",
       "2   старый башкирец молчать глядеть комендант вид ...             2  \n",
       "3   миленький вдовушка девка сидеть хотеть сказать...             2  \n",
       "4   это таки интересно любопытно послушать честной...             3  \n",
       "5       маша отвечать тихий голос украдкой взглянуть              4  \n",
       "6   худой старичок скромный сюртук читать русский ...             4  \n",
       "7                                закрывать лицо рука              3  \n",
       "8   один главный действовать лицо оставлять поле б...             3  \n",
       "9                             замучить свой ревность              1  \n",
       "10                                          говорить              4  \n",
       "11                         это подговорить муж убить              5  \n",
       "12  литвинов влюбиться ирина увидать три год старш...             4  \n",
       "13  переслать конура татарка старик сесть постель ...             5  \n",
       "14  минута свободно вздыхать сидеть свой коляска д...             5  \n",
       "15                      определить постоять говорить              5  \n",
       "16                               сказать яков успеть              5  \n",
       "17  пугачёв узнать обратиться алатырь прикрывать с...             2  \n",
       "18  говорить мишка ласково улыбаться свой милый глаз              5  \n",
       "19                                     вчера лизнуть              4  "
      ]
     },
     "execution_count": 56,
     "metadata": {},
     "output_type": "execute_result"
    }
   ],
   "source": [
    "sentences_df.head(20)"
   ]
  },
  {
   "cell_type": "code",
   "execution_count": 79,
   "metadata": {},
   "outputs": [],
   "source": [
    "train_X, test_X, train_y, test_y = train_test_split(sentences_df['processed_sentence'], sentences_df['author_index'],\\\n",
    "                                                    stratify=sentences_df['author_index'], test_size=0.25, \\\n",
    "                                                    random_state=42)"
   ]
  },
  {
   "cell_type": "code",
   "execution_count": 80,
   "metadata": {},
   "outputs": [],
   "source": [
    "vectorizer = TfidfVectorizer(max_features=100) \n",
    "vectorizer.fit(train_X)\n",
    "train_X = vectorizer.transform(train_X)\n",
    "test_X = vectorizer.transform(test_X)\n",
    "\n",
    "train_X = np.array(train_X.todense())\n",
    "test_X = np.array(test_X.todense())\n",
    "train_y = np.array(train_y)\n",
    "test_y = np.array(test_y)"
   ]
  },
  {
   "cell_type": "code",
   "execution_count": 81,
   "metadata": {},
   "outputs": [
    {
     "data": {
      "text/plain": [
       "array([[0., 0., 0., ..., 0., 0., 0.],\n",
       "       [0., 0., 0., ..., 0., 0., 0.],\n",
       "       [0., 0., 0., ..., 0., 0., 0.],\n",
       "       ...,\n",
       "       [0., 0., 0., ..., 0., 0., 0.],\n",
       "       [0., 0., 0., ..., 0., 0., 0.],\n",
       "       [0., 0., 0., ..., 0., 1., 0.]])"
      ]
     },
     "execution_count": 81,
     "metadata": {},
     "output_type": "execute_result"
    }
   ],
   "source": [
    "train_X"
   ]
  },
  {
   "cell_type": "code",
   "execution_count": 86,
   "metadata": {},
   "outputs": [],
   "source": [
    "def show_results(test_y, pred, test_y_bin, pred_bin):\n",
    "    print(\"Precision: {0:6.2f}\".format(precision_score(test_y_bin, pred_bin, average='macro')))\n",
    "    print(\"Recall: {0:6.2f}\".format(recall_score(test_y_bin, pred_bin, average='macro')))\n",
    "    print(\"F1-measure: {0:6.2f}\".format(f1_score(test_y_bin, pred_bin, average='macro')))\n",
    "    print(\"Accuracy: {0:6.2f}\".format(accuracy_score(test_y, pred)))\n",
    "    print('\\n')\n",
    "    labels = ['Blok','Lermontov', 'Pushkin', 'Chekhov', 'Turgenev', 'Gorky']\n",
    "\n",
    "    #classification_report\n",
    "    sns.heatmap(data=confusion_matrix(test_y, pred), annot=True, fmt=\"d\", cbar=False, xticklabels=labels, yticklabels=labels)\n",
    "    plt.title(\"Confusion matrix \")\n",
    "    plt.show()"
   ]
  },
  {
   "cell_type": "code",
   "execution_count": 88,
   "metadata": {},
   "outputs": [],
   "source": [
    "def unbinarize(y_bin):\n",
    "    result = []\n",
    "    for i in range(y_bin.shape[0]):\n",
    "        ind = (y_bin[i]).tolist().index(1)\n",
    "        result.append(ind)\n",
    "    return result"
   ]
  },
  {
   "cell_type": "code",
   "execution_count": 89,
   "metadata": {},
   "outputs": [
    {
     "name": "stdout",
     "output_type": "stream",
     "text": [
      "OneVsRest Strategy\n",
      "Best parameters:  {'estimator__beta': 0.0, 'estimator__gamma': 0.0}\n",
      "Train set\n",
      "ROC AUC score  =   0.50\n",
      "Precision:   0.17\n",
      "Recall:   1.00\n",
      "F1-measure:   0.27\n",
      "Accuracy:   0.03\n",
      "\n",
      "\n"
     ]
    },
    {
     "data": {
      "image/png": "[encoded data removed]",
      "text/plain": [
       "<Figure size 432x288 with 1 Axes>"
      ]
     },
     "metadata": {},
     "output_type": "display_data"
    },
    {
     "name": "stdout",
     "output_type": "stream",
     "text": [
      "Test set\n",
      "ROC AUC score  =   0.50\n",
      "Precision:   0.17\n",
      "Recall:   1.00\n",
      "F1-measure:   0.27\n",
      "Accuracy:   0.03\n",
      "\n",
      "\n"
     ]
    },
    {
     "data": {
      "image/png": "[encoded data removed]",
      "text/plain": [
       "<Figure size 432x288 with 1 Axes>"
      ]
     },
     "metadata": {},
     "output_type": "display_data"
    }
   ],
   "source": [
    "from sklearn.multiclass import OneVsRestClassifier\n",
    "from sklearn.preprocessing import label_binarize\n",
    "\n",
    "parameters = {'estimator__beta': np.linspace(0, 1, 2), 'estimator__gamma' : np.linspace(0, 1, 2)}\n",
    "\n",
    "my_scorer = make_scorer(roc_auc_score, greater_is_better=True, multi_class = 'ovr')\n",
    "\n",
    "train_y_bin = label_binarize(train_y, classes=[0, 1, 2, 3, 4, 5])\n",
    "test_y_bin = label_binarize(test_y, classes=[0, 1, 2, 3, 4, 5])\n",
    "\n",
    "svr = OneVsRestClassifier(Logit())\n",
    "clf = GridSearchCV(svr, parameters, scoring=my_scorer, cv=2, n_jobs=-1)\n",
    "clf.fit(train_X, train_y_bin)\n",
    "print('OneVsRest Strategy')\n",
    "print('Best parameters: ', clf.best_params_)\n",
    "print('Train set')\n",
    "print(\"ROC AUC score  = {0:6.2f}\".format(clf.score(train_X, train_y_bin)))\n",
    "pred_y_bin = clf.predict(train_X)\n",
    "show_results(train_y, unbinarize(pred_y_bin), train_y_bin, pred_y_bin)\n",
    "print('Test set')\n",
    "print(\"ROC AUC score  = {0:6.2f}\".format(clf.score(test_X, test_y_bin)))\n",
    "pred_y_bin = clf.predict(test_X)\n",
    "show_results(test_y, unbinarize(pred_y_bin), test_y_bin, pred_y_bin)"
   ]
  },
  {
   "cell_type": "code",
   "execution_count": null,
   "metadata": {},
   "outputs": [],
   "source": []
  }
 ],
 "metadata": {
  "kernelspec": {
   "display_name": "Python 3 (ipykernel)",
   "language": "python",
   "name": "python3"
  },
  "language_info": {
   "codemirror_mode": {
    "name": "ipython",
    "version": 3
   },
   "file_extension": ".py",
   "mimetype": "text/x-python",
   "name": "python",
   "nbconvert_exporter": "python",
   "pygments_lexer": "ipython3",
   "version": "3.9.7"
  }
 },
 "nbformat": 4,
 "nbformat_minor": 1
}
